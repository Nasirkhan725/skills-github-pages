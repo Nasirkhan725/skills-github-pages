{
 "cells": [
  {
   "cell_type": "markdown",
   "id": "f413ea50",
   "metadata": {},
   "source": [
    "### 1.) Python Numpy :-\n",
    "\n",
    "🔶 NumPy (Numerical Python) is a powerful open-source \"Python library\" used primarily for \"numerical computing\". \n",
    "\n",
    "🔶 It provides support for \"large, multi-dimensional arrays\" and matrices, along with a collection of mathematical \n",
    "   functions to operate on these arrays efficiently."
   ]
  },
  {
   "cell_type": "code",
   "execution_count": null,
   "id": "63496017",
   "metadata": {},
   "outputs": [],
   "source": []
  },
  {
   "cell_type": "markdown",
   "id": "508c0e2b",
   "metadata": {},
   "source": [
    "### 2.) Import Numpy Package as np :-"
   ]
  },
  {
   "cell_type": "code",
   "execution_count": 1,
   "id": "c0e42e7f",
   "metadata": {},
   "outputs": [],
   "source": [
    "import numpy as np"
   ]
  },
  {
   "cell_type": "code",
   "execution_count": null,
   "id": "75f66c8e",
   "metadata": {},
   "outputs": [],
   "source": []
  },
  {
   "cell_type": "markdown",
   "id": "c1fc9026",
   "metadata": {},
   "source": [
    "### 3.) Create an Empty Array of 20, 0's & Replace The 4th Object With The Number 5 :-"
   ]
  },
  {
   "cell_type": "code",
   "execution_count": 2,
   "id": "0f188f6e",
   "metadata": {},
   "outputs": [
    {
     "data": {
      "text/plain": [
       "array([0., 0., 0., 5., 0., 0., 0., 0., 0., 0., 0., 0., 0., 0., 0., 0., 0.,\n",
       "       0., 0., 0.])"
      ]
     },
     "execution_count": 2,
     "metadata": {},
     "output_type": "execute_result"
    }
   ],
   "source": [
    "a = np.zeros(20)\n",
    "a[3] = 5\n",
    "a"
   ]
  },
  {
   "cell_type": "code",
   "execution_count": null,
   "id": "519920ab",
   "metadata": {},
   "outputs": [],
   "source": []
  },
  {
   "cell_type": "markdown",
   "id": "6395a64c",
   "metadata": {},
   "source": [
    "### 4.) Create an Array of 20, 1's & Store It As a Variable Named array_master :-\n",
    "\n",
    "* **[ Copy the same array into another variable named array_copy() ]**"
   ]
  },
  {
   "cell_type": "code",
   "execution_count": 3,
   "id": "9cf82490",
   "metadata": {},
   "outputs": [
    {
     "data": {
      "text/plain": [
       "array([1., 1., 1., 1., 1., 1., 1., 1., 1., 1., 1., 1., 1., 1., 1., 1., 1.,\n",
       "       1., 1., 1.])"
      ]
     },
     "execution_count": 3,
     "metadata": {},
     "output_type": "execute_result"
    }
   ],
   "source": [
    "array_master = np.ones(20)\n",
    "array_copy = array_master.copy()\n",
    "array_copy"
   ]
  },
  {
   "cell_type": "code",
   "execution_count": null,
   "id": "f9c6aea0",
   "metadata": {},
   "outputs": [],
   "source": []
  },
  {
   "cell_type": "markdown",
   "id": "8b57631e",
   "metadata": {},
   "source": [
    "❌"
   ]
  },
  {
   "cell_type": "code",
   "execution_count": 4,
   "id": "bf2ad86c",
   "metadata": {},
   "outputs": [
    {
     "data": {
      "text/plain": [
       "array([1., 1., 1., 1., 1., 1., 1., 1., 1., 1., 1., 1., 1., 1., 1., 1., 1.,\n",
       "       1., 1., 1.])"
      ]
     },
     "execution_count": 4,
     "metadata": {},
     "output_type": "execute_result"
    }
   ],
   "source": [
    "array_master = np.ones(20)\n",
    "array_copy = array_master      \n",
    "array_copy                   "
   ]
  },
  {
   "cell_type": "markdown",
   "id": "863d4704",
   "metadata": {},
   "source": [
    "* **Note :**\n",
    "\n",
    "      -> [ This does not create a new array. Instead, array_copy is just another reference (alias) to the same\n",
    "           array as array_master.\n",
    "           Any changes made to array_copy will affect array_master, because both point to the same memory ]"
   ]
  },
  {
   "cell_type": "code",
   "execution_count": null,
   "id": "b4147db4",
   "metadata": {},
   "outputs": [],
   "source": []
  },
  {
   "cell_type": "markdown",
   "id": "6d6f8696",
   "metadata": {},
   "source": [
    "### 5.) Create An Array Containing 30, 1's & Broadcast All The One's To The Value 100 :-"
   ]
  },
  {
   "cell_type": "code",
   "execution_count": 5,
   "id": "73e00ad0",
   "metadata": {},
   "outputs": [
    {
     "data": {
      "text/plain": [
       "array([100., 100., 100., 100., 100., 100., 100., 100., 100., 100., 100.,\n",
       "       100., 100., 100., 100., 100., 100., 100., 100., 100., 100., 100.,\n",
       "       100., 100., 100., 100., 100., 100., 100., 100.])"
      ]
     },
     "execution_count": 5,
     "metadata": {},
     "output_type": "execute_result"
    }
   ],
   "source": [
    "array = np.ones(30)\n",
    "array[ : ] = 100\n",
    "array"
   ]
  },
  {
   "cell_type": "markdown",
   "id": "950bd778",
   "metadata": {},
   "source": [
    "* **Note :**\n",
    "\n",
    "      -> [ The colon : is called a \"slice operator\" in Python and NumPy. It means, select all elements of the array ]"
   ]
  },
  {
   "cell_type": "code",
   "execution_count": null,
   "id": "e4856aeb",
   "metadata": {},
   "outputs": [],
   "source": []
  },
  {
   "cell_type": "markdown",
   "id": "cb7002c5",
   "metadata": {},
   "source": [
    "### 6.) Create An Array Of Integers Storing From 21 Until 31 & Name It As array_1 :-\n",
    "###        Create An Array Of Integers Storing From 11 Until 21 & Name It As array_2 :-\n",
    "\n",
    "* **[ Calculate the difference between array_1 & array_2 ]**"
   ]
  },
  {
   "cell_type": "code",
   "execution_count": 6,
   "id": "47b1ff08",
   "metadata": {},
   "outputs": [
    {
     "data": {
      "text/plain": [
       "array([10, 10, 10, 10, 10, 10, 10, 10, 10, 10, 10])"
      ]
     },
     "execution_count": 6,
     "metadata": {},
     "output_type": "execute_result"
    }
   ],
   "source": [
    "array_1 = np.arange( 21,32 )\n",
    "array_2 = np.arange( 11,22 )\n",
    "\n",
    "array_1 - array_2"
   ]
  },
  {
   "cell_type": "markdown",
   "id": "0c2c76c4",
   "metadata": {},
   "source": [
    "* **Note :**\n",
    "\n",
    "      -> [ The function np.arange(start, stop) creates a 1D array of numbers, starting from start and stopping \n",
    "           before stop, with a default step size of 1 ]"
   ]
  },
  {
   "cell_type": "code",
   "execution_count": null,
   "id": "d718aee0",
   "metadata": {},
   "outputs": [],
   "source": []
  },
  {
   "cell_type": "markdown",
   "id": "cd9ccc35",
   "metadata": {},
   "source": [
    "### 7.) Create An Array Of All Even Integers From 2  to 10 & Name It a1 :-\n",
    "###      Create An Array Of All Even Integers From 22 to 30 & Name It a2 :-\n",
    "\n",
    "* **[ Use the 2 arrays as rows & create a matrix( Hint - Use \"stack\" function from numpy )]**"
   ]
  },
  {
   "cell_type": "code",
   "execution_count": 7,
   "id": "42d0bedb",
   "metadata": {},
   "outputs": [
    {
     "data": {
      "text/plain": [
       "array([[ 2,  4,  6,  8, 10],\n",
       "       [22, 24, 26, 28, 30]])"
      ]
     },
     "execution_count": 7,
     "metadata": {},
     "output_type": "execute_result"
    }
   ],
   "source": [
    "a1 = np.arange( 2,11,2 )\n",
    "a2 = np.arange( 22,31,2 )\n",
    "\n",
    "np.stack(( a1,a2 ))"
   ]
  },
  {
   "cell_type": "code",
   "execution_count": null,
   "id": "5e57d555",
   "metadata": {},
   "outputs": [],
   "source": []
  },
  {
   "cell_type": "markdown",
   "id": "32a436ba",
   "metadata": {},
   "source": [
    "* **[ Use the 2 arrays as columns & create a matrix( Hint - Use column_stack function from numpy )]**"
   ]
  },
  {
   "cell_type": "code",
   "execution_count": 8,
   "id": "9c0ba3ef",
   "metadata": {},
   "outputs": [
    {
     "data": {
      "text/plain": [
       "array([[ 2, 22],\n",
       "       [ 4, 24],\n",
       "       [ 6, 26],\n",
       "       [ 8, 28],\n",
       "       [10, 30]])"
      ]
     },
     "execution_count": 8,
     "metadata": {},
     "output_type": "execute_result"
    }
   ],
   "source": [
    "np.column_stack((a1,a2))"
   ]
  },
  {
   "cell_type": "code",
   "execution_count": null,
   "id": "3c0fbe2b",
   "metadata": {},
   "outputs": [],
   "source": []
  },
  {
   "cell_type": "markdown",
   "id": "18ef5f6c",
   "metadata": {},
   "source": [
    "### 8.) Create a 5x6 Matrix With Values Ranging From 0 to 29 & Retrive The Value Interesecting at 2nd Row & 3rd  Column :-"
   ]
  },
  {
   "cell_type": "code",
   "execution_count": 9,
   "id": "da83ec7b",
   "metadata": {},
   "outputs": [
    {
     "data": {
      "text/plain": [
       "array([[ 0,  1,  2,  3,  4,  5],\n",
       "       [ 6,  7,  8,  9, 10, 11],\n",
       "       [12, 13, 14, 15, 16, 17],\n",
       "       [18, 19, 20, 21, 22, 23],\n",
       "       [24, 25, 26, 27, 28, 29]])"
      ]
     },
     "execution_count": 9,
     "metadata": {},
     "output_type": "execute_result"
    }
   ],
   "source": [
    "array_matrix = np.arange(30).reshape(5,6)\n",
    "array_matrix"
   ]
  },
  {
   "cell_type": "code",
   "execution_count": 10,
   "id": "5f34e41a",
   "metadata": {},
   "outputs": [
    {
     "data": {
      "text/plain": [
       "8"
      ]
     },
     "execution_count": 10,
     "metadata": {},
     "output_type": "execute_result"
    }
   ],
   "source": [
    "array_matrix[1,2]"
   ]
  },
  {
   "cell_type": "code",
   "execution_count": null,
   "id": "f7bc3a18",
   "metadata": {},
   "outputs": [],
   "source": []
  },
  {
   "cell_type": "markdown",
   "id": "dbc4bea3",
   "metadata": {},
   "source": [
    "### 9.) Create An Identity Matrix, Shape Of 10x10 & Replace The 0's With The Value 21 :-\n",
    "\n",
    "* **Identity Matrix :**\n",
    "\n",
    "🔶 An identity matrix is a \"square matrix\". With same number of rows and columns.\n",
    "\n",
    "🔶 Where, all diagonal elements are 1 & all other elements are 0.\n",
    "\n",
    "🔶 In an identity matrix, the diagonal values are always 1."
   ]
  },
  {
   "cell_type": "code",
   "execution_count": 11,
   "id": "389a0af8",
   "metadata": {},
   "outputs": [
    {
     "data": {
      "text/plain": [
       "array([[1., 2., 2., 2., 2., 2., 2., 2., 2., 2.],\n",
       "       [2., 1., 2., 2., 2., 2., 2., 2., 2., 2.],\n",
       "       [2., 2., 1., 2., 2., 2., 2., 2., 2., 2.],\n",
       "       [2., 2., 2., 1., 2., 2., 2., 2., 2., 2.],\n",
       "       [2., 2., 2., 2., 1., 2., 2., 2., 2., 2.],\n",
       "       [2., 2., 2., 2., 2., 1., 2., 2., 2., 2.],\n",
       "       [2., 2., 2., 2., 2., 2., 1., 2., 2., 2.],\n",
       "       [2., 2., 2., 2., 2., 2., 2., 1., 2., 2.],\n",
       "       [2., 2., 2., 2., 2., 2., 2., 2., 1., 2.],\n",
       "       [2., 2., 2., 2., 2., 2., 2., 2., 2., 1.]])"
      ]
     },
     "execution_count": 11,
     "metadata": {},
     "output_type": "execute_result"
    }
   ],
   "source": [
    "arr = np.eye(10)\n",
    "arr[ arr == 0 ] = 2\n",
    "arr"
   ]
  },
  {
   "cell_type": "markdown",
   "id": "5a556ea2",
   "metadata": {},
   "source": [
    "* **Note :**\n",
    "\n",
    "      -> [ The function np.eye(10) creates a 2D identity matrix of shape (10, 10) ]\n",
    "      -> [ arr[ arr == 0 ] = 2 : Find all elements in arr that are equal to 0 and replace them with 2 ]"
   ]
  },
  {
   "cell_type": "code",
   "execution_count": null,
   "id": "15d19b89",
   "metadata": {},
   "outputs": [],
   "source": []
  },
  {
   "cell_type": "markdown",
   "id": "d7056ab5",
   "metadata": {},
   "source": [
    "### 10.) Use Numpy To Generate a Random Set Of 10 Numbers Between 0 & 1 :-\n",
    "\n",
    "* **[ Display a boolean array output where all value > 0.2 are True, rest are marked as False ]**"
   ]
  },
  {
   "cell_type": "code",
   "execution_count": 14,
   "id": "d82cdbde",
   "metadata": {},
   "outputs": [
    {
     "data": {
      "text/plain": [
       "array([0.63457813, 0.95852294, 0.66467199, 0.61994858, 0.30145019,\n",
       "       0.38796845, 0.46182258, 0.78398368, 0.27416679, 0.23642613])"
      ]
     },
     "execution_count": 14,
     "metadata": {},
     "output_type": "execute_result"
    }
   ],
   "source": [
    "arr = np.random.rand(10)\n",
    "arr"
   ]
  },
  {
   "cell_type": "code",
   "execution_count": 15,
   "id": "7c08edd7",
   "metadata": {},
   "outputs": [
    {
     "data": {
      "text/plain": [
       "array([ True,  True,  True,  True,  True,  True,  True,  True,  True,\n",
       "        True])"
      ]
     },
     "execution_count": 15,
     "metadata": {},
     "output_type": "execute_result"
    }
   ],
   "source": [
    "arr > 0.2"
   ]
  },
  {
   "cell_type": "markdown",
   "id": "38fdb088",
   "metadata": {},
   "source": [
    "* **Note :**\n",
    "\n",
    "      -> [ np.random.rand(10) generates an array of 10 random numbers ]\n",
    "      -> [ These numbers are drawn from a \"uniform distribution\" over the interval [0, 1).\n",
    "           That means each number will be ≥ 0 and < 1 ]\n",
    "      -> [ The shape of the output array depends on the arguments you give. Here, 10 means a 1D \n",
    "           array with 10 elements ]"
   ]
  },
  {
   "cell_type": "code",
   "execution_count": null,
   "id": "3954df01",
   "metadata": {},
   "outputs": [],
   "source": []
  },
  {
   "cell_type": "markdown",
   "id": "a65d3208",
   "metadata": {},
   "source": [
    "### 11.) Uniform Distribution :-\n",
    "\n",
    "🔶 A uniform distribution is a type of \"probability distribution\" in which all outcomes are equally likely within a given \n",
    "   range. Every number within the specified range has the same probability of being selected. The probability is spread evenly \n",
    "   across the range.\n",
    "\n",
    "🔶 A uniform distribution is not always between 0 and 1 — that's just the \"default range\" used in functions like  \n",
    "   np.random.rand()."
   ]
  },
  {
   "cell_type": "code",
   "execution_count": null,
   "id": "8f13cbca",
   "metadata": {},
   "outputs": [],
   "source": []
  },
  {
   "cell_type": "markdown",
   "id": "76ed26eb",
   "metadata": {},
   "source": [
    "### 12.) Use Numpy to Generate An Array Matrix of 5x2 Random Numbers Sampled From a Standard Normal Distribution :-"
   ]
  },
  {
   "cell_type": "code",
   "execution_count": 16,
   "id": "618bde40",
   "metadata": {},
   "outputs": [
    {
     "data": {
      "text/plain": [
       "array([[ 1.46103754,  0.00346311],\n",
       "       [ 1.16050106, -0.40345311],\n",
       "       [ 0.24202835, -1.05587056],\n",
       "       [-0.98726739,  1.77967535],\n",
       "       [-0.14189038, -0.65530615]])"
      ]
     },
     "execution_count": 16,
     "metadata": {},
     "output_type": "execute_result"
    }
   ],
   "source": [
    "np.random.randn(5,2)"
   ]
  },
  {
   "cell_type": "code",
   "execution_count": null,
   "id": "8992b20e",
   "metadata": {},
   "outputs": [],
   "source": []
  },
  {
   "cell_type": "markdown",
   "id": "4e8b3201",
   "metadata": {},
   "source": [
    "### 13.) What Is The Difference Between random.rand() & random.randn() :-\n",
    "\n",
    "🔶 **np.random.rand() :**\n",
    "\n",
    "    Uniform distribution over [0, 1)\n",
    "    All values between 0 and 1 are equally likely.\n",
    "    The distribution is flat.\n",
    "    \n",
    "🔶 **np.random.randn() :**\n",
    "\n",
    "    Standard normal distribution, also called \"Gaussian or bell curve\".\n",
    "    Mean = 0.\n",
    "    Standard deviation = 1.\n",
    "    Most values are around 0, fewer as you go farther from 0.\n",
    "    The distribution is bell-shaped.\n",
    "    Values can be anything from -∞ to +∞, but. Most values lie in the range -3 to +3, \n",
    "    because it uses a \"Standard Normal Distribution\"(mean = 0, std = 1)."
   ]
  },
  {
   "cell_type": "code",
   "execution_count": null,
   "id": "d79de957",
   "metadata": {},
   "outputs": [],
   "source": []
  },
  {
   "cell_type": "markdown",
   "id": "710532fe",
   "metadata": {},
   "source": [
    "### 14.) Create an Array Of 30 Linearly Spaced Points Between 0 & 100 :-"
   ]
  },
  {
   "cell_type": "code",
   "execution_count": 17,
   "id": "cd9297d4",
   "metadata": {},
   "outputs": [
    {
     "data": {
      "text/plain": [
       "array([  0.        ,   3.44827586,   6.89655172,  10.34482759,\n",
       "        13.79310345,  17.24137931,  20.68965517,  24.13793103,\n",
       "        27.5862069 ,  31.03448276,  34.48275862,  37.93103448,\n",
       "        41.37931034,  44.82758621,  48.27586207,  51.72413793,\n",
       "        55.17241379,  58.62068966,  62.06896552,  65.51724138,\n",
       "        68.96551724,  72.4137931 ,  75.86206897,  79.31034483,\n",
       "        82.75862069,  86.20689655,  89.65517241,  93.10344828,\n",
       "        96.55172414, 100.        ])"
      ]
     },
     "execution_count": 17,
     "metadata": {},
     "output_type": "execute_result"
    }
   ],
   "source": [
    "np.linspace( 0,100,30 )"
   ]
  },
  {
   "cell_type": "code",
   "execution_count": null,
   "id": "48eba38b",
   "metadata": {},
   "outputs": [],
   "source": []
  },
  {
   "cell_type": "code",
   "execution_count": null,
   "id": "6378b0d6",
   "metadata": {},
   "outputs": [],
   "source": []
  },
  {
   "cell_type": "markdown",
   "id": "15e2c3fc",
   "metadata": {},
   "source": [
    "# NumPy Indexing & Selections\n"
   ]
  },
  {
   "cell_type": "markdown",
   "id": "ac915f6a",
   "metadata": {},
   "source": [
    "### 15.) Using The Below Given Matrix & Generate The Output For The Below Questions :-"
   ]
  },
  {
   "cell_type": "code",
   "execution_count": 19,
   "id": "fe236a3a",
   "metadata": {},
   "outputs": [
    {
     "data": {
      "text/plain": [
       "array([[  1,   2,   3,   4,   5,   6,   7,   8,   9,  10],\n",
       "       [ 11,  12,  13,  14,  15,  16,  17,  18,  19,  20],\n",
       "       [ 21,  22,  23,  24,  25,  26,  27,  28,  29,  30],\n",
       "       [ 31,  32,  33,  34,  35,  36,  37,  38,  39,  40],\n",
       "       [ 41,  42,  43,  44,  45,  46,  47,  48,  49,  50],\n",
       "       [ 51,  52,  53,  54,  55,  56,  57,  58,  59,  60],\n",
       "       [ 61,  62,  63,  64,  65,  66,  67,  68,  69,  70],\n",
       "       [ 71,  72,  73,  74,  75,  76,  77,  78,  79,  80],\n",
       "       [ 81,  82,  83,  84,  85,  86,  87,  88,  89,  90],\n",
       "       [ 91,  92,  93,  94,  95,  96,  97,  98,  99, 100]])"
      ]
     },
     "execution_count": 19,
     "metadata": {},
     "output_type": "execute_result"
    }
   ],
   "source": [
    "simple_matrix = np.arange( 1,101 ).reshape( 10,10 )\n",
    "simple_matrix"
   ]
  },
  {
   "cell_type": "markdown",
   "id": "7ff0b81e",
   "metadata": {},
   "source": [
    "* **Retrieve the last 2 rows & first 3 column values of the above matrix using index & selection technique :**"
   ]
  },
  {
   "cell_type": "code",
   "execution_count": 20,
   "id": "1cdc77fc",
   "metadata": {},
   "outputs": [
    {
     "data": {
      "text/plain": [
       "array([[81, 82, 83],\n",
       "       [91, 92, 93]])"
      ]
     },
     "execution_count": 20,
     "metadata": {},
     "output_type": "execute_result"
    }
   ],
   "source": [
    "simple_matrix[ 8:, 0:3 ]"
   ]
  },
  {
   "cell_type": "code",
   "execution_count": null,
   "id": "59a1dca8",
   "metadata": {},
   "outputs": [],
   "source": []
  },
  {
   "cell_type": "markdown",
   "id": "10257db5",
   "metadata": {},
   "source": [
    "* **Retrieve the value 55 from the above matrix using index & selection technique :**"
   ]
  },
  {
   "cell_type": "code",
   "execution_count": 22,
   "id": "dc612dd6",
   "metadata": {},
   "outputs": [
    {
     "data": {
      "text/plain": [
       "55"
      ]
     },
     "execution_count": 22,
     "metadata": {},
     "output_type": "execute_result"
    }
   ],
   "source": [
    "simple_matrix[ 5,4 ]"
   ]
  },
  {
   "cell_type": "code",
   "execution_count": null,
   "id": "de602a7b",
   "metadata": {},
   "outputs": [],
   "source": []
  },
  {
   "cell_type": "markdown",
   "id": "23f67b5e",
   "metadata": {},
   "source": [
    "* **Retrieve the values from the 3rd column in the above matrix :**"
   ]
  },
  {
   "cell_type": "code",
   "execution_count": 24,
   "id": "00c048f4",
   "metadata": {},
   "outputs": [
    {
     "data": {
      "text/plain": [
       "array([ 3, 13, 23, 33, 43, 53, 63, 73, 83, 93])"
      ]
     },
     "execution_count": 24,
     "metadata": {},
     "output_type": "execute_result"
    }
   ],
   "source": [
    "simple_matrix[ :, 2 ]"
   ]
  },
  {
   "cell_type": "code",
   "execution_count": null,
   "id": "aa2a3a08",
   "metadata": {},
   "outputs": [],
   "source": []
  },
  {
   "cell_type": "markdown",
   "id": "6e58a724",
   "metadata": {},
   "source": [
    "* **Retrieve the values from the 4th row in the above matrix :**"
   ]
  },
  {
   "cell_type": "code",
   "execution_count": 25,
   "id": "0b67e9c2",
   "metadata": {},
   "outputs": [
    {
     "data": {
      "text/plain": [
       "array([31, 32, 33, 34, 35, 36, 37, 38, 39, 40])"
      ]
     },
     "execution_count": 25,
     "metadata": {},
     "output_type": "execute_result"
    }
   ],
   "source": [
    "simple_matrix[ 3,: ]"
   ]
  },
  {
   "cell_type": "code",
   "execution_count": 26,
   "id": "a5ab61f7",
   "metadata": {},
   "outputs": [
    {
     "data": {
      "text/plain": [
       "array([31, 32, 33, 34, 35, 36, 37, 38, 39, 40])"
      ]
     },
     "execution_count": 26,
     "metadata": {},
     "output_type": "execute_result"
    }
   ],
   "source": [
    "simple_matrix[3]"
   ]
  },
  {
   "cell_type": "code",
   "execution_count": null,
   "id": "4c5aff3c",
   "metadata": {},
   "outputs": [],
   "source": []
  },
  {
   "cell_type": "markdown",
   "id": "a8196baf",
   "metadata": {},
   "source": [
    "* **Retrieve values from the 2nd & 4th rows in the above matrix :**"
   ]
  },
  {
   "cell_type": "code",
   "execution_count": 27,
   "id": "9168f245",
   "metadata": {},
   "outputs": [
    {
     "data": {
      "text/plain": [
       "array([[11, 12, 13, 14, 15, 16, 17, 18, 19, 20],\n",
       "       [31, 32, 33, 34, 35, 36, 37, 38, 39, 40]])"
      ]
     },
     "execution_count": 27,
     "metadata": {},
     "output_type": "execute_result"
    }
   ],
   "source": [
    "simple_matrix[ (1,3),: ]"
   ]
  },
  {
   "cell_type": "code",
   "execution_count": null,
   "id": "36ad3b53",
   "metadata": {},
   "outputs": [],
   "source": []
  },
  {
   "cell_type": "markdown",
   "id": "7bf994ad",
   "metadata": {},
   "source": [
    "* **Calculate sum of all the values in the matrix :**"
   ]
  },
  {
   "cell_type": "code",
   "execution_count": 30,
   "id": "2647c24f",
   "metadata": {},
   "outputs": [
    {
     "data": {
      "text/plain": [
       "5050"
      ]
     },
     "execution_count": 30,
     "metadata": {},
     "output_type": "execute_result"
    }
   ],
   "source": [
    "simple_matrix.sum()"
   ]
  },
  {
   "cell_type": "code",
   "execution_count": null,
   "id": "d1a29daa",
   "metadata": {},
   "outputs": [],
   "source": []
  },
  {
   "cell_type": "markdown",
   "id": "e728f7c7",
   "metadata": {},
   "source": [
    "* **Calculate standard deviation of all the values in the matrix :**"
   ]
  },
  {
   "cell_type": "code",
   "execution_count": 31,
   "id": "e871db6f",
   "metadata": {},
   "outputs": [
    {
     "data": {
      "text/plain": [
       "28.86607004772212"
      ]
     },
     "execution_count": 31,
     "metadata": {},
     "output_type": "execute_result"
    }
   ],
   "source": [
    "simple_matrix.std()"
   ]
  },
  {
   "cell_type": "code",
   "execution_count": null,
   "id": "7a868f39",
   "metadata": {},
   "outputs": [],
   "source": []
  },
  {
   "cell_type": "markdown",
   "id": "184423b5",
   "metadata": {},
   "source": [
    "* **Calculate the variance of all values in the matrix :**"
   ]
  },
  {
   "cell_type": "code",
   "execution_count": 32,
   "id": "0a9e2bb6",
   "metadata": {},
   "outputs": [
    {
     "data": {
      "text/plain": [
       "833.25"
      ]
     },
     "execution_count": 32,
     "metadata": {},
     "output_type": "execute_result"
    }
   ],
   "source": [
    "simple_matrix.var()"
   ]
  },
  {
   "cell_type": "code",
   "execution_count": null,
   "id": "6c0919a6",
   "metadata": {},
   "outputs": [],
   "source": []
  },
  {
   "cell_type": "markdown",
   "id": "dee0235a",
   "metadata": {},
   "source": [
    "* **Calculate the mean of all values in the matrix :**"
   ]
  },
  {
   "cell_type": "code",
   "execution_count": 33,
   "id": "7cbadd15",
   "metadata": {},
   "outputs": [
    {
     "data": {
      "text/plain": [
       "50.5"
      ]
     },
     "execution_count": 33,
     "metadata": {},
     "output_type": "execute_result"
    }
   ],
   "source": [
    "simple_matrix.mean()"
   ]
  },
  {
   "cell_type": "code",
   "execution_count": null,
   "id": "8f2bf4c1",
   "metadata": {},
   "outputs": [],
   "source": []
  },
  {
   "cell_type": "markdown",
   "id": "1a208881",
   "metadata": {},
   "source": [
    "* **Retrieve the largest number from the matrix :**"
   ]
  },
  {
   "cell_type": "code",
   "execution_count": 34,
   "id": "b846e281",
   "metadata": {},
   "outputs": [
    {
     "data": {
      "text/plain": [
       "100"
      ]
     },
     "execution_count": 34,
     "metadata": {},
     "output_type": "execute_result"
    }
   ],
   "source": [
    "simple_matrix.max()"
   ]
  },
  {
   "cell_type": "code",
   "execution_count": null,
   "id": "f1ba01e2",
   "metadata": {},
   "outputs": [],
   "source": []
  },
  {
   "cell_type": "markdown",
   "id": "ada0aee2",
   "metadata": {},
   "source": [
    "* **Retrieve the smallest number from the matrix :**"
   ]
  },
  {
   "cell_type": "code",
   "execution_count": 35,
   "id": "ab2fbb39",
   "metadata": {},
   "outputs": [
    {
     "data": {
      "text/plain": [
       "1"
      ]
     },
     "execution_count": 35,
     "metadata": {},
     "output_type": "execute_result"
    }
   ],
   "source": [
    "simple_matrix.min()"
   ]
  },
  {
   "cell_type": "code",
   "execution_count": null,
   "id": "22548a4e",
   "metadata": {},
   "outputs": [],
   "source": []
  },
  {
   "cell_type": "markdown",
   "id": "49fe0a2b",
   "metadata": {},
   "source": [
    "### 16.) Standard Deviation :-\n",
    "\n",
    "🔶 Standard deviation measures \"how spread out the numbers\" in a dataset are around the mean or average.\n",
    "\n",
    "🔶 If the numbers are close to the mean, standard deviation is small.\n",
    "\n",
    "🔶 If the numbers are widely spread, standard deviation is large.\n",
    "\n",
    "\n",
    "* **Example :**\n",
    "\n",
    "For this data: [5, 5, 5, 5, 5]\n",
    "\n",
    "Mean = 5\n",
    "\n",
    "All numbers are same as mean → Standard deviation = 0\n",
    "\n",
    "\n",
    "For this data: [1, 5, 9]\n",
    "\n",
    "Mean = 5\n",
    "\n",
    "Numbers are spread around 5 → Standard deviation > 0"
   ]
  },
  {
   "cell_type": "code",
   "execution_count": null,
   "id": "9bbb6128",
   "metadata": {},
   "outputs": [],
   "source": []
  },
  {
   "cell_type": "markdown",
   "id": "ed771ad5",
   "metadata": {},
   "source": [
    "### 17.) Variance :-\n",
    "\n",
    "🔶 Variance measures the \"average squared distance\" of each value from the mean. It tells you how spread out the values are.\n",
    "\n",
    "* **Formula :**\n",
    "\n",
    "                            n\n",
    "             variance = 1/n ∑ ( xi - μ)^2\n",
    "                           i=1\n",
    "                           \n",
    "xi = each value\n",
    "\n",
    "𝜇 = mean of all values\n",
    "\n",
    "𝑛 = number of values"
   ]
  },
  {
   "cell_type": "code",
   "execution_count": null,
   "id": "ccce388d",
   "metadata": {},
   "outputs": [],
   "source": []
  }
 ],
 "metadata": {
  "kernelspec": {
   "display_name": "Python 3 (ipykernel)",
   "language": "python",
   "name": "python3"
  },
  "language_info": {
   "codemirror_mode": {
    "name": "ipython",
    "version": 3
   },
   "file_extension": ".py",
   "mimetype": "text/x-python",
   "name": "python",
   "nbconvert_exporter": "python",
   "pygments_lexer": "ipython3",
   "version": "3.11.5"
  }
 },
 "nbformat": 4,
 "nbformat_minor": 5
}
